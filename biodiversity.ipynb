{
 "cells": [
  {
   "cell_type": "markdown",
   "metadata": {},
   "source": [
    "# Biodiversity in National Parks\n"
   ]
  },
  {
   "cell_type": "code",
   "execution_count": 4,
   "metadata": {},
   "outputs": [],
   "source": [
    "#Import modules\n",
    "\n",
    "from matplotlib import pyplot as plt\n",
    "import pandas as pd\n",
    "import seaborn as sns\n",
    "import numpy as np\n",
    "from scipy import stats\n",
    "\n"
   ]
  },
  {
   "cell_type": "code",
   "execution_count": 5,
   "metadata": {
    "scrolled": false
   },
   "outputs": [
    {
     "data": {
      "text/html": [
       "<div>\n",
       "<style scoped>\n",
       "    .dataframe tbody tr th:only-of-type {\n",
       "        vertical-align: middle;\n",
       "    }\n",
       "\n",
       "    .dataframe tbody tr th {\n",
       "        vertical-align: top;\n",
       "    }\n",
       "\n",
       "    .dataframe thead th {\n",
       "        text-align: right;\n",
       "    }\n",
       "</style>\n",
       "<table border=\"1\" class=\"dataframe\">\n",
       "  <thead>\n",
       "    <tr style=\"text-align: right;\">\n",
       "      <th></th>\n",
       "      <th>category</th>\n",
       "      <th>scientific_name</th>\n",
       "      <th>common_names</th>\n",
       "      <th>conservation_status</th>\n",
       "    </tr>\n",
       "  </thead>\n",
       "  <tbody>\n",
       "    <tr>\n",
       "      <th>0</th>\n",
       "      <td>Mammal</td>\n",
       "      <td>Clethrionomys gapperi gapperi</td>\n",
       "      <td>Gapper's Red-Backed Vole</td>\n",
       "      <td>NaN</td>\n",
       "    </tr>\n",
       "    <tr>\n",
       "      <th>1</th>\n",
       "      <td>Mammal</td>\n",
       "      <td>Bos bison</td>\n",
       "      <td>American Bison, Bison</td>\n",
       "      <td>NaN</td>\n",
       "    </tr>\n",
       "    <tr>\n",
       "      <th>2</th>\n",
       "      <td>Mammal</td>\n",
       "      <td>Bos taurus</td>\n",
       "      <td>Aurochs, Aurochs, Domestic Cattle (Feral), Dom...</td>\n",
       "      <td>NaN</td>\n",
       "    </tr>\n",
       "    <tr>\n",
       "      <th>3</th>\n",
       "      <td>Mammal</td>\n",
       "      <td>Ovis aries</td>\n",
       "      <td>Domestic Sheep, Mouflon, Red Sheep, Sheep (Feral)</td>\n",
       "      <td>NaN</td>\n",
       "    </tr>\n",
       "    <tr>\n",
       "      <th>4</th>\n",
       "      <td>Mammal</td>\n",
       "      <td>Cervus elaphus</td>\n",
       "      <td>Wapiti Or Elk</td>\n",
       "      <td>NaN</td>\n",
       "    </tr>\n",
       "  </tbody>\n",
       "</table>\n",
       "</div>"
      ],
      "text/plain": [
       "  category                scientific_name  \\\n",
       "0   Mammal  Clethrionomys gapperi gapperi   \n",
       "1   Mammal                      Bos bison   \n",
       "2   Mammal                     Bos taurus   \n",
       "3   Mammal                     Ovis aries   \n",
       "4   Mammal                 Cervus elaphus   \n",
       "\n",
       "                                        common_names conservation_status  \n",
       "0                           Gapper's Red-Backed Vole                 NaN  \n",
       "1                              American Bison, Bison                 NaN  \n",
       "2  Aurochs, Aurochs, Domestic Cattle (Feral), Dom...                 NaN  \n",
       "3  Domestic Sheep, Mouflon, Red Sheep, Sheep (Feral)                 NaN  \n",
       "4                                      Wapiti Or Elk                 NaN  "
      ]
     },
     "metadata": {},
     "output_type": "display_data"
    },
    {
     "name": "stdout",
     "output_type": "stream",
     "text": [
      "None\n"
     ]
    },
    {
     "data": {
      "text/html": [
       "<div>\n",
       "<style scoped>\n",
       "    .dataframe tbody tr th:only-of-type {\n",
       "        vertical-align: middle;\n",
       "    }\n",
       "\n",
       "    .dataframe tbody tr th {\n",
       "        vertical-align: top;\n",
       "    }\n",
       "\n",
       "    .dataframe thead th {\n",
       "        text-align: right;\n",
       "    }\n",
       "</style>\n",
       "<table border=\"1\" class=\"dataframe\">\n",
       "  <thead>\n",
       "    <tr style=\"text-align: right;\">\n",
       "      <th></th>\n",
       "      <th>scientific_name</th>\n",
       "      <th>park_name</th>\n",
       "      <th>observations</th>\n",
       "    </tr>\n",
       "  </thead>\n",
       "  <tbody>\n",
       "    <tr>\n",
       "      <th>0</th>\n",
       "      <td>Vicia benghalensis</td>\n",
       "      <td>Great Smoky Mountains National Park</td>\n",
       "      <td>68</td>\n",
       "    </tr>\n",
       "    <tr>\n",
       "      <th>1</th>\n",
       "      <td>Neovison vison</td>\n",
       "      <td>Great Smoky Mountains National Park</td>\n",
       "      <td>77</td>\n",
       "    </tr>\n",
       "    <tr>\n",
       "      <th>2</th>\n",
       "      <td>Prunus subcordata</td>\n",
       "      <td>Yosemite National Park</td>\n",
       "      <td>138</td>\n",
       "    </tr>\n",
       "    <tr>\n",
       "      <th>3</th>\n",
       "      <td>Abutilon theophrasti</td>\n",
       "      <td>Bryce National Park</td>\n",
       "      <td>84</td>\n",
       "    </tr>\n",
       "    <tr>\n",
       "      <th>4</th>\n",
       "      <td>Githopsis specularioides</td>\n",
       "      <td>Great Smoky Mountains National Park</td>\n",
       "      <td>85</td>\n",
       "    </tr>\n",
       "  </tbody>\n",
       "</table>\n",
       "</div>"
      ],
      "text/plain": [
       "            scientific_name                            park_name  observations\n",
       "0        Vicia benghalensis  Great Smoky Mountains National Park            68\n",
       "1            Neovison vison  Great Smoky Mountains National Park            77\n",
       "2         Prunus subcordata               Yosemite National Park           138\n",
       "3      Abutilon theophrasti                  Bryce National Park            84\n",
       "4  Githopsis specularioides  Great Smoky Mountains National Park            85"
      ]
     },
     "metadata": {},
     "output_type": "display_data"
    },
    {
     "name": "stdout",
     "output_type": "stream",
     "text": [
      "None\n"
     ]
    }
   ],
   "source": [
    "#Read data\n",
    "\n",
    "species = pd.read_csv('species_info.csv')\n",
    "obs = pd.read_csv('observations.csv')\n",
    "\n",
    "print(display(species.head()))\n",
    "print(display(obs.head()))"
   ]
  },
  {
   "cell_type": "code",
   "execution_count": 6,
   "metadata": {
    "scrolled": true
   },
   "outputs": [
    {
     "name": "stdout",
     "output_type": "stream",
     "text": [
      "null_species:  category                  0\n",
      "scientific_name           0\n",
      "common_names              0\n",
      "conservation_status    5633\n",
      "dtype: int64\n",
      "null_obs:  scientific_name    0\n",
      "park_name          0\n",
      "observations       0\n",
      "dtype: int64\n"
     ]
    }
   ],
   "source": [
    "#Check to see if any null values in the columns\n",
    "null_species = species.isnull().sum(axis = 0)\n",
    "\n",
    "null_obs = obs.isnull().sum(axis = 0)\n",
    "\n",
    "print('null_species: ', null_species)\n",
    "print('null_obs: ', null_obs)"
   ]
  },
  {
   "cell_type": "code",
   "execution_count": 7,
   "metadata": {},
   "outputs": [
    {
     "name": "stdout",
     "output_type": "stream",
     "text": [
      "category               0\n",
      "scientific_name        0\n",
      "common_names           0\n",
      "conservation_status    0\n",
      "dtype: int64\n"
     ]
    }
   ],
   "source": [
    "#replace missing values\n",
    "species.fillna('No Information', inplace=True)\n",
    "new_null_species = species.isnull().sum(axis = 0)\n",
    "print(new_null_species)\n"
   ]
  },
  {
   "cell_type": "code",
   "execution_count": 8,
   "metadata": {},
   "outputs": [
    {
     "name": "stdout",
     "output_type": "stream",
     "text": [
      "Categories:  ['Mammal' 'Bird' 'Reptile' 'Amphibian' 'Fish' 'Vascular Plant'\n",
      " 'Nonvascular Plant']\n",
      "\n",
      "\n",
      "Scientific names in species df:  ['Clethrionomys gapperi gapperi' 'Bos bison' 'Bos taurus' ...\n",
      " 'Parthenocissus vitacea' 'Vitis californica' 'Tribulus terrestris']\n",
      "\n",
      "\n",
      "Common names:  [\"Gapper's Red-Backed Vole\" 'American Bison, Bison'\n",
      " 'Aurochs, Aurochs, Domestic Cattle (Feral), Domesticated Cattle' ...\n",
      " 'Thicket Creeper, Virginia Creeper, Woodbine'\n",
      " 'California Grape, California Wild Grape'\n",
      " 'Bullhead, Caltrop, Goathead, Mexican Sandbur, Puncture Vine, Texas Sandbur']\n",
      "\n",
      "\n",
      "Conservation statuses : ['No Information' 'Species of Concern' 'Endangered' 'Threatened'\n",
      " 'In Recovery']\n",
      "\n",
      "\n",
      "Scientific names in obs df:  ['Vicia benghalensis' 'Neovison vison' 'Prunus subcordata' ...\n",
      " 'Ranunculus hebecarpus' 'Gulo gulo' 'Dichanthelium depauperatum']\n",
      "\n",
      "\n",
      "Park names:  ['Great Smoky Mountains National Park' 'Yosemite National Park'\n",
      " 'Bryce National Park' 'Yellowstone National Park']\n"
     ]
    }
   ],
   "source": [
    "#find unique values\n",
    "\n",
    "# species\n",
    "cat = species['category'].unique()\n",
    "sci_name = species['scientific_name'].unique()\n",
    "name = species['common_names'].unique()\n",
    "con_stat = species['conservation_status'].unique()\n",
    "#obs\n",
    "sci_name2 = obs['scientific_name'].unique()\n",
    "park = obs['park_name'].unique()\n",
    "\n",
    "print('Categories: ', cat)\n",
    "print('\\n')\n",
    "print('Scientific names in species df: ', sci_name)\n",
    "print('\\n')\n",
    "print('Common names: ', name)\n",
    "print('\\n')\n",
    "print('Conservation statuses :', con_stat)\n",
    "print('\\n')\n",
    "print('Scientific names in obs df: ', sci_name2)\n",
    "print('\\n')\n",
    "print('Park names: ', park)\n"
   ]
  },
  {
   "cell_type": "code",
   "execution_count": 9,
   "metadata": {},
   "outputs": [],
   "source": [
    "#Create categorical values for the column conservation_status to be used later for sorting and data manipulation\n",
    "species.conservation_status = pd.Categorical(species.conservation_status, \n",
    "                                               categories=['No Information', 'Species of Concern', \n",
    "                                               'In Recovery', 'Threatened', 'Endangered'], \n",
    "                                               ordered=True)"
   ]
  },
  {
   "cell_type": "code",
   "execution_count": 10,
   "metadata": {},
   "outputs": [
    {
     "name": "stdout",
     "output_type": "stream",
     "text": [
      "Number of unique species in species df:  5541\n",
      "Number of unique species in obs df:  5541\n"
     ]
    }
   ],
   "source": [
    "#find number of unique species\n",
    "\n",
    "#Species df\n",
    "n_sci_name = species['scientific_name'].nunique()\n",
    "\n",
    "#obs df\n",
    "n_sci_name2 = obs['scientific_name'].nunique()\n",
    "\n",
    "print('Number of unique species in species df: ', n_sci_name)\n",
    "print('Number of unique species in obs df: ', n_sci_name2)"
   ]
  },
  {
   "cell_type": "code",
   "execution_count": 11,
   "metadata": {},
   "outputs": [
    {
     "name": "stdout",
     "output_type": "stream",
     "text": [
      "(5824, 4)\n",
      "(23296, 3)\n"
     ]
    }
   ],
   "source": [
    "#find number of rows \n",
    "print(species.shape)\n",
    "print(obs.shape)"
   ]
  },
  {
   "cell_type": "code",
   "execution_count": 12,
   "metadata": {},
   "outputs": [
    {
     "name": "stdout",
     "output_type": "stream",
     "text": [
      "Park Name Values: \n",
      "['Great Smoky Mountains ' 'Yosemite ' 'Bryce ' 'Yellowstone ']\n"
     ]
    }
   ],
   "source": [
    "#shorten park names\n",
    "obs.park_name = obs.park_name.str.replace('National Park','')\n",
    "print('Park Name Values: ')\n",
    "print(obs.park_name.unique())"
   ]
  },
  {
   "cell_type": "code",
   "execution_count": 13,
   "metadata": {
    "scrolled": true
   },
   "outputs": [
    {
     "name": "stdout",
     "output_type": "stream",
     "text": [
      "Duplicates: 557\n"
     ]
    },
    {
     "data": {
      "text/html": [
       "<div>\n",
       "<style scoped>\n",
       "    .dataframe tbody tr th:only-of-type {\n",
       "        vertical-align: middle;\n",
       "    }\n",
       "\n",
       "    .dataframe tbody tr th {\n",
       "        vertical-align: top;\n",
       "    }\n",
       "\n",
       "    .dataframe thead th {\n",
       "        text-align: right;\n",
       "    }\n",
       "</style>\n",
       "<table border=\"1\" class=\"dataframe\">\n",
       "  <thead>\n",
       "    <tr style=\"text-align: right;\">\n",
       "      <th></th>\n",
       "      <th>category</th>\n",
       "      <th>scientific_name</th>\n",
       "      <th>common_names</th>\n",
       "      <th>conservation_status</th>\n",
       "    </tr>\n",
       "  </thead>\n",
       "  <tbody>\n",
       "    <tr>\n",
       "      <th>8</th>\n",
       "      <td>Mammal</td>\n",
       "      <td>Canis lupus</td>\n",
       "      <td>Gray Wolf</td>\n",
       "      <td>Endangered</td>\n",
       "    </tr>\n",
       "    <tr>\n",
       "      <th>3020</th>\n",
       "      <td>Mammal</td>\n",
       "      <td>Canis lupus</td>\n",
       "      <td>Gray Wolf, Wolf</td>\n",
       "      <td>In Recovery</td>\n",
       "    </tr>\n",
       "    <tr>\n",
       "      <th>4448</th>\n",
       "      <td>Mammal</td>\n",
       "      <td>Canis lupus</td>\n",
       "      <td>Gray Wolf, Wolf</td>\n",
       "      <td>Endangered</td>\n",
       "    </tr>\n",
       "  </tbody>\n",
       "</table>\n",
       "</div>"
      ],
      "text/plain": [
       "     category scientific_name     common_names conservation_status\n",
       "8      Mammal     Canis lupus        Gray Wolf          Endangered\n",
       "3020   Mammal     Canis lupus  Gray Wolf, Wolf         In Recovery\n",
       "4448   Mammal     Canis lupus  Gray Wolf, Wolf          Endangered"
      ]
     },
     "metadata": {},
     "output_type": "display_data"
    },
    {
     "data": {
      "text/html": [
       "<div>\n",
       "<style scoped>\n",
       "    .dataframe tbody tr th:only-of-type {\n",
       "        vertical-align: middle;\n",
       "    }\n",
       "\n",
       "    .dataframe tbody tr th {\n",
       "        vertical-align: top;\n",
       "    }\n",
       "\n",
       "    .dataframe thead th {\n",
       "        text-align: right;\n",
       "    }\n",
       "</style>\n",
       "<table border=\"1\" class=\"dataframe\">\n",
       "  <thead>\n",
       "    <tr style=\"text-align: right;\">\n",
       "      <th></th>\n",
       "      <th>category</th>\n",
       "      <th>scientific_name</th>\n",
       "      <th>common_names</th>\n",
       "      <th>conservation_status</th>\n",
       "    </tr>\n",
       "  </thead>\n",
       "  <tbody>\n",
       "    <tr>\n",
       "      <th>49</th>\n",
       "      <td>Mammal</td>\n",
       "      <td>Castor canadensis</td>\n",
       "      <td>American Beaver, Beaver</td>\n",
       "      <td>No Information</td>\n",
       "    </tr>\n",
       "    <tr>\n",
       "      <th>3050</th>\n",
       "      <td>Mammal</td>\n",
       "      <td>Castor canadensis</td>\n",
       "      <td>American Beaver</td>\n",
       "      <td>No Information</td>\n",
       "    </tr>\n",
       "    <tr>\n",
       "      <th>4475</th>\n",
       "      <td>Mammal</td>\n",
       "      <td>Castor canadensis</td>\n",
       "      <td>Beaver</td>\n",
       "      <td>No Information</td>\n",
       "    </tr>\n",
       "  </tbody>\n",
       "</table>\n",
       "</div>"
      ],
      "text/plain": [
       "     category    scientific_name             common_names conservation_status\n",
       "49     Mammal  Castor canadensis  American Beaver, Beaver      No Information\n",
       "3050   Mammal  Castor canadensis          American Beaver      No Information\n",
       "4475   Mammal  Castor canadensis                   Beaver      No Information"
      ]
     },
     "metadata": {},
     "output_type": "display_data"
    },
    {
     "data": {
      "text/html": [
       "<div>\n",
       "<style scoped>\n",
       "    .dataframe tbody tr th:only-of-type {\n",
       "        vertical-align: middle;\n",
       "    }\n",
       "\n",
       "    .dataframe tbody tr th {\n",
       "        vertical-align: top;\n",
       "    }\n",
       "\n",
       "    .dataframe thead th {\n",
       "        text-align: right;\n",
       "    }\n",
       "</style>\n",
       "<table border=\"1\" class=\"dataframe\">\n",
       "  <thead>\n",
       "    <tr style=\"text-align: right;\">\n",
       "      <th></th>\n",
       "      <th>category</th>\n",
       "      <th>scientific_name</th>\n",
       "      <th>common_names</th>\n",
       "      <th>conservation_status</th>\n",
       "    </tr>\n",
       "  </thead>\n",
       "  <tbody>\n",
       "    <tr>\n",
       "      <th>156</th>\n",
       "      <td>Bird</td>\n",
       "      <td>Columba livia</td>\n",
       "      <td>Rock Dove</td>\n",
       "      <td>No Information</td>\n",
       "    </tr>\n",
       "    <tr>\n",
       "      <th>3138</th>\n",
       "      <td>Bird</td>\n",
       "      <td>Columba livia</td>\n",
       "      <td>Common Pigeon, Rock Dove, Rock Pigeon</td>\n",
       "      <td>No Information</td>\n",
       "    </tr>\n",
       "    <tr>\n",
       "      <th>4513</th>\n",
       "      <td>Bird</td>\n",
       "      <td>Columba livia</td>\n",
       "      <td>Rock Pigeon</td>\n",
       "      <td>No Information</td>\n",
       "    </tr>\n",
       "  </tbody>\n",
       "</table>\n",
       "</div>"
      ],
      "text/plain": [
       "     category scientific_name                           common_names  \\\n",
       "156      Bird   Columba livia                              Rock Dove   \n",
       "3138     Bird   Columba livia  Common Pigeon, Rock Dove, Rock Pigeon   \n",
       "4513     Bird   Columba livia                            Rock Pigeon   \n",
       "\n",
       "     conservation_status  \n",
       "156       No Information  \n",
       "3138      No Information  \n",
       "4513      No Information  "
      ]
     },
     "metadata": {},
     "output_type": "display_data"
    },
    {
     "data": {
      "text/html": [
       "<div>\n",
       "<style scoped>\n",
       "    .dataframe tbody tr th:only-of-type {\n",
       "        vertical-align: middle;\n",
       "    }\n",
       "\n",
       "    .dataframe tbody tr th {\n",
       "        vertical-align: top;\n",
       "    }\n",
       "\n",
       "    .dataframe thead th {\n",
       "        text-align: right;\n",
       "    }\n",
       "</style>\n",
       "<table border=\"1\" class=\"dataframe\">\n",
       "  <thead>\n",
       "    <tr style=\"text-align: right;\">\n",
       "      <th></th>\n",
       "      <th>category</th>\n",
       "      <th>scientific_name</th>\n",
       "      <th>common_names</th>\n",
       "      <th>conservation_status</th>\n",
       "    </tr>\n",
       "  </thead>\n",
       "  <tbody>\n",
       "    <tr>\n",
       "      <th>2242</th>\n",
       "      <td>Vascular Plant</td>\n",
       "      <td>Holcus lanatus</td>\n",
       "      <td>Common Velvet Grass, Velvetgrass</td>\n",
       "      <td>No Information</td>\n",
       "    </tr>\n",
       "    <tr>\n",
       "      <th>4236</th>\n",
       "      <td>Vascular Plant</td>\n",
       "      <td>Holcus lanatus</td>\n",
       "      <td>Common Velvetgrass, Yorkshire-Fog</td>\n",
       "      <td>No Information</td>\n",
       "    </tr>\n",
       "    <tr>\n",
       "      <th>5600</th>\n",
       "      <td>Vascular Plant</td>\n",
       "      <td>Holcus lanatus</td>\n",
       "      <td>Common Velvetgrass, Velvetgrass, Yorkshire Fog</td>\n",
       "      <td>No Information</td>\n",
       "    </tr>\n",
       "  </tbody>\n",
       "</table>\n",
       "</div>"
      ],
      "text/plain": [
       "            category scientific_name  \\\n",
       "2242  Vascular Plant  Holcus lanatus   \n",
       "4236  Vascular Plant  Holcus lanatus   \n",
       "5600  Vascular Plant  Holcus lanatus   \n",
       "\n",
       "                                        common_names conservation_status  \n",
       "2242                Common Velvet Grass, Velvetgrass      No Information  \n",
       "4236               Common Velvetgrass, Yorkshire-Fog      No Information  \n",
       "5600  Common Velvetgrass, Velvetgrass, Yorkshire Fog      No Information  "
      ]
     },
     "metadata": {},
     "output_type": "display_data"
    },
    {
     "data": {
      "text/html": [
       "<div>\n",
       "<style scoped>\n",
       "    .dataframe tbody tr th:only-of-type {\n",
       "        vertical-align: middle;\n",
       "    }\n",
       "\n",
       "    .dataframe tbody tr th {\n",
       "        vertical-align: top;\n",
       "    }\n",
       "\n",
       "    .dataframe thead th {\n",
       "        text-align: right;\n",
       "    }\n",
       "</style>\n",
       "<table border=\"1\" class=\"dataframe\">\n",
       "  <thead>\n",
       "    <tr style=\"text-align: right;\">\n",
       "      <th></th>\n",
       "      <th>category</th>\n",
       "      <th>scientific_name</th>\n",
       "      <th>common_names</th>\n",
       "      <th>conservation_status</th>\n",
       "    </tr>\n",
       "  </thead>\n",
       "  <tbody>\n",
       "    <tr>\n",
       "      <th>858</th>\n",
       "      <td>Vascular Plant</td>\n",
       "      <td>Hypochaeris radicata</td>\n",
       "      <td>Cat's Ear, Spotted Cat's-Ear</td>\n",
       "      <td>No Information</td>\n",
       "    </tr>\n",
       "    <tr>\n",
       "      <th>3488</th>\n",
       "      <td>Vascular Plant</td>\n",
       "      <td>Hypochaeris radicata</td>\n",
       "      <td>Spotted Cats-Ear, Hairy Cats-Ear, Gosmore</td>\n",
       "      <td>No Information</td>\n",
       "    </tr>\n",
       "    <tr>\n",
       "      <th>4799</th>\n",
       "      <td>Vascular Plant</td>\n",
       "      <td>Hypochaeris radicata</td>\n",
       "      <td>Common Cat's-Ear, False Dandelion, Frogbit, Go...</td>\n",
       "      <td>No Information</td>\n",
       "    </tr>\n",
       "  </tbody>\n",
       "</table>\n",
       "</div>"
      ],
      "text/plain": [
       "            category       scientific_name  \\\n",
       "858   Vascular Plant  Hypochaeris radicata   \n",
       "3488  Vascular Plant  Hypochaeris radicata   \n",
       "4799  Vascular Plant  Hypochaeris radicata   \n",
       "\n",
       "                                           common_names conservation_status  \n",
       "858                        Cat's Ear, Spotted Cat's-Ear      No Information  \n",
       "3488          Spotted Cats-Ear, Hairy Cats-Ear, Gosmore      No Information  \n",
       "4799  Common Cat's-Ear, False Dandelion, Frogbit, Go...      No Information  "
      ]
     },
     "metadata": {},
     "output_type": "display_data"
    },
    {
     "data": {
      "text/html": [
       "<div>\n",
       "<style scoped>\n",
       "    .dataframe tbody tr th:only-of-type {\n",
       "        vertical-align: middle;\n",
       "    }\n",
       "\n",
       "    .dataframe tbody tr th {\n",
       "        vertical-align: top;\n",
       "    }\n",
       "\n",
       "    .dataframe thead th {\n",
       "        text-align: right;\n",
       "    }\n",
       "</style>\n",
       "<table border=\"1\" class=\"dataframe\">\n",
       "  <thead>\n",
       "    <tr style=\"text-align: right;\">\n",
       "      <th></th>\n",
       "      <th>category</th>\n",
       "      <th>scientific_name</th>\n",
       "      <th>common_names</th>\n",
       "      <th>conservation_status</th>\n",
       "    </tr>\n",
       "  </thead>\n",
       "  <tbody>\n",
       "    <tr>\n",
       "      <th>37</th>\n",
       "      <td>Mammal</td>\n",
       "      <td>Myotis lucifugus</td>\n",
       "      <td>Little Brown Bat, Little Brown Myotis</td>\n",
       "      <td>Species of Concern</td>\n",
       "    </tr>\n",
       "    <tr>\n",
       "      <th>3042</th>\n",
       "      <td>Mammal</td>\n",
       "      <td>Myotis lucifugus</td>\n",
       "      <td>Little Brown Bat, Little Brown Myotis, Little ...</td>\n",
       "      <td>Species of Concern</td>\n",
       "    </tr>\n",
       "    <tr>\n",
       "      <th>4467</th>\n",
       "      <td>Mammal</td>\n",
       "      <td>Myotis lucifugus</td>\n",
       "      <td>Little Brown Myotis</td>\n",
       "      <td>Species of Concern</td>\n",
       "    </tr>\n",
       "  </tbody>\n",
       "</table>\n",
       "</div>"
      ],
      "text/plain": [
       "     category   scientific_name  \\\n",
       "37     Mammal  Myotis lucifugus   \n",
       "3042   Mammal  Myotis lucifugus   \n",
       "4467   Mammal  Myotis lucifugus   \n",
       "\n",
       "                                           common_names conservation_status  \n",
       "37                Little Brown Bat, Little Brown Myotis  Species of Concern  \n",
       "3042  Little Brown Bat, Little Brown Myotis, Little ...  Species of Concern  \n",
       "4467                                Little Brown Myotis  Species of Concern  "
      ]
     },
     "metadata": {},
     "output_type": "display_data"
    },
    {
     "data": {
      "text/html": [
       "<div>\n",
       "<style scoped>\n",
       "    .dataframe tbody tr th:only-of-type {\n",
       "        vertical-align: middle;\n",
       "    }\n",
       "\n",
       "    .dataframe tbody tr th {\n",
       "        vertical-align: top;\n",
       "    }\n",
       "\n",
       "    .dataframe thead th {\n",
       "        text-align: right;\n",
       "    }\n",
       "</style>\n",
       "<table border=\"1\" class=\"dataframe\">\n",
       "  <thead>\n",
       "    <tr style=\"text-align: right;\">\n",
       "      <th></th>\n",
       "      <th>category</th>\n",
       "      <th>scientific_name</th>\n",
       "      <th>common_names</th>\n",
       "      <th>conservation_status</th>\n",
       "    </tr>\n",
       "  </thead>\n",
       "  <tbody>\n",
       "    <tr>\n",
       "      <th>26</th>\n",
       "      <td>Mammal</td>\n",
       "      <td>Procyon lotor</td>\n",
       "      <td>Common Raccoon, Raccoon</td>\n",
       "      <td>No Information</td>\n",
       "    </tr>\n",
       "    <tr>\n",
       "      <th>3030</th>\n",
       "      <td>Mammal</td>\n",
       "      <td>Procyon lotor</td>\n",
       "      <td>Common Raccoon, Northern Raccoon, Raccoon</td>\n",
       "      <td>No Information</td>\n",
       "    </tr>\n",
       "    <tr>\n",
       "      <th>4459</th>\n",
       "      <td>Mammal</td>\n",
       "      <td>Procyon lotor</td>\n",
       "      <td>Raccoon</td>\n",
       "      <td>No Information</td>\n",
       "    </tr>\n",
       "  </tbody>\n",
       "</table>\n",
       "</div>"
      ],
      "text/plain": [
       "     category scientific_name                               common_names  \\\n",
       "26     Mammal   Procyon lotor                    Common Raccoon, Raccoon   \n",
       "3030   Mammal   Procyon lotor  Common Raccoon, Northern Raccoon, Raccoon   \n",
       "4459   Mammal   Procyon lotor                                    Raccoon   \n",
       "\n",
       "     conservation_status  \n",
       "26        No Information  \n",
       "3030      No Information  \n",
       "4459      No Information  "
      ]
     },
     "metadata": {},
     "output_type": "display_data"
    },
    {
     "data": {
      "text/html": [
       "<div>\n",
       "<style scoped>\n",
       "    .dataframe tbody tr th:only-of-type {\n",
       "        vertical-align: middle;\n",
       "    }\n",
       "\n",
       "    .dataframe tbody tr th {\n",
       "        vertical-align: top;\n",
       "    }\n",
       "\n",
       "    .dataframe thead th {\n",
       "        text-align: right;\n",
       "    }\n",
       "</style>\n",
       "<table border=\"1\" class=\"dataframe\">\n",
       "  <thead>\n",
       "    <tr style=\"text-align: right;\">\n",
       "      <th></th>\n",
       "      <th>category</th>\n",
       "      <th>scientific_name</th>\n",
       "      <th>common_names</th>\n",
       "      <th>conservation_status</th>\n",
       "    </tr>\n",
       "  </thead>\n",
       "  <tbody>\n",
       "    <tr>\n",
       "      <th>16</th>\n",
       "      <td>Mammal</td>\n",
       "      <td>Puma concolor</td>\n",
       "      <td>Panther (Mountain Lion)</td>\n",
       "      <td>No Information</td>\n",
       "    </tr>\n",
       "    <tr>\n",
       "      <th>3022</th>\n",
       "      <td>Mammal</td>\n",
       "      <td>Puma concolor</td>\n",
       "      <td>Cougar, Mountain Lion, Puma</td>\n",
       "      <td>No Information</td>\n",
       "    </tr>\n",
       "    <tr>\n",
       "      <th>4451</th>\n",
       "      <td>Mammal</td>\n",
       "      <td>Puma concolor</td>\n",
       "      <td>Mountain Lion</td>\n",
       "      <td>No Information</td>\n",
       "    </tr>\n",
       "  </tbody>\n",
       "</table>\n",
       "</div>"
      ],
      "text/plain": [
       "     category scientific_name                 common_names conservation_status\n",
       "16     Mammal   Puma concolor      Panther (Mountain Lion)      No Information\n",
       "3022   Mammal   Puma concolor  Cougar, Mountain Lion, Puma      No Information\n",
       "4451   Mammal   Puma concolor                Mountain Lion      No Information"
      ]
     },
     "metadata": {},
     "output_type": "display_data"
    },
    {
     "data": {
      "text/html": [
       "<div>\n",
       "<style scoped>\n",
       "    .dataframe tbody tr th:only-of-type {\n",
       "        vertical-align: middle;\n",
       "    }\n",
       "\n",
       "    .dataframe tbody tr th {\n",
       "        vertical-align: top;\n",
       "    }\n",
       "\n",
       "    .dataframe thead th {\n",
       "        text-align: right;\n",
       "    }\n",
       "</style>\n",
       "<table border=\"1\" class=\"dataframe\">\n",
       "  <thead>\n",
       "    <tr style=\"text-align: right;\">\n",
       "      <th></th>\n",
       "      <th>category</th>\n",
       "      <th>scientific_name</th>\n",
       "      <th>common_names</th>\n",
       "      <th>conservation_status</th>\n",
       "    </tr>\n",
       "  </thead>\n",
       "  <tbody>\n",
       "    <tr>\n",
       "      <th>3077</th>\n",
       "      <td>Bird</td>\n",
       "      <td>Streptopelia decaocto</td>\n",
       "      <td>Eurasian Collared-Dove</td>\n",
       "      <td>No Information</td>\n",
       "    </tr>\n",
       "    <tr>\n",
       "      <th>3140</th>\n",
       "      <td>Bird</td>\n",
       "      <td>Streptopelia decaocto</td>\n",
       "      <td>Eurasian Collared Dove, Eurasian Collared-Dove</td>\n",
       "      <td>No Information</td>\n",
       "    </tr>\n",
       "    <tr>\n",
       "      <th>4514</th>\n",
       "      <td>Bird</td>\n",
       "      <td>Streptopelia decaocto</td>\n",
       "      <td>Eurasian Collared Dove</td>\n",
       "      <td>No Information</td>\n",
       "    </tr>\n",
       "  </tbody>\n",
       "</table>\n",
       "</div>"
      ],
      "text/plain": [
       "     category        scientific_name  \\\n",
       "3077     Bird  Streptopelia decaocto   \n",
       "3140     Bird  Streptopelia decaocto   \n",
       "4514     Bird  Streptopelia decaocto   \n",
       "\n",
       "                                        common_names conservation_status  \n",
       "3077                          Eurasian Collared-Dove      No Information  \n",
       "3140  Eurasian Collared Dove, Eurasian Collared-Dove      No Information  \n",
       "4514                          Eurasian Collared Dove      No Information  "
      ]
     },
     "metadata": {},
     "output_type": "display_data"
    }
   ],
   "source": [
    "s_duplicates = species[species.scientific_name.duplicated(keep=False)]\n",
    "print(f'Duplicates: {len(s_duplicates)}')\n",
    "# Create a dataframe with the count of duplicate rows by scientific_name\n",
    "duplicate_count = s_duplicates.groupby(['scientific_name']).conservation_status.count()\n",
    "# Print the scientific_names with the highest duplicate counts and review the conservation_status\n",
    "for name, status in duplicate_count.iteritems():\n",
    "    if int(status) > 2:\n",
    "        display(s_duplicates[s_duplicates.scientific_name == name])"
   ]
  },
  {
   "cell_type": "markdown",
   "metadata": {},
   "source": [
    "#### We can see Canis lupus has 2 different conservation statuses- 2 classed as endangered, so will keep this status."
   ]
  },
  {
   "cell_type": "code",
   "execution_count": 14,
   "metadata": {},
   "outputs": [
    {
     "name": "stdout",
     "output_type": "stream",
     "text": [
      "(5541, 4)\n"
     ]
    }
   ],
   "source": [
    "# Drop duplicates\n",
    "species.drop_duplicates(inplace=True, subset='scientific_name', keep='first')\n",
    "species.reset_index(drop=True, inplace=True)\n",
    "print(species.shape)"
   ]
  },
  {
   "cell_type": "code",
   "execution_count": 15,
   "metadata": {},
   "outputs": [
    {
     "name": "stdout",
     "output_type": "stream",
     "text": [
      "int64\n"
     ]
    }
   ],
   "source": [
    "#find data type of observations\n",
    "print(np.dtype(obs['observations']))"
   ]
  },
  {
   "cell_type": "markdown",
   "metadata": {},
   "source": [
    "## Analysing data"
   ]
  },
  {
   "cell_type": "code",
   "execution_count": 16,
   "metadata": {},
   "outputs": [
    {
     "data": {
      "text/html": [
       "<div>\n",
       "<style scoped>\n",
       "    .dataframe tbody tr th:only-of-type {\n",
       "        vertical-align: middle;\n",
       "    }\n",
       "\n",
       "    .dataframe tbody tr th {\n",
       "        vertical-align: top;\n",
       "    }\n",
       "\n",
       "    .dataframe thead th {\n",
       "        text-align: right;\n",
       "    }\n",
       "</style>\n",
       "<table border=\"1\" class=\"dataframe\">\n",
       "  <thead>\n",
       "    <tr style=\"text-align: right;\">\n",
       "      <th>conservation_status</th>\n",
       "      <th>No Information</th>\n",
       "      <th>Species of Concern</th>\n",
       "      <th>In Recovery</th>\n",
       "      <th>Threatened</th>\n",
       "      <th>Endangered</th>\n",
       "    </tr>\n",
       "    <tr>\n",
       "      <th>category</th>\n",
       "      <th></th>\n",
       "      <th></th>\n",
       "      <th></th>\n",
       "      <th></th>\n",
       "      <th></th>\n",
       "    </tr>\n",
       "  </thead>\n",
       "  <tbody>\n",
       "    <tr>\n",
       "      <th>Amphibian</th>\n",
       "      <td>72</td>\n",
       "      <td>4</td>\n",
       "      <td>0</td>\n",
       "      <td>2</td>\n",
       "      <td>1</td>\n",
       "    </tr>\n",
       "    <tr>\n",
       "      <th>Bird</th>\n",
       "      <td>413</td>\n",
       "      <td>68</td>\n",
       "      <td>3</td>\n",
       "      <td>0</td>\n",
       "      <td>4</td>\n",
       "    </tr>\n",
       "    <tr>\n",
       "      <th>Fish</th>\n",
       "      <td>115</td>\n",
       "      <td>4</td>\n",
       "      <td>0</td>\n",
       "      <td>3</td>\n",
       "      <td>3</td>\n",
       "    </tr>\n",
       "    <tr>\n",
       "      <th>Mammal</th>\n",
       "      <td>146</td>\n",
       "      <td>22</td>\n",
       "      <td>0</td>\n",
       "      <td>2</td>\n",
       "      <td>6</td>\n",
       "    </tr>\n",
       "    <tr>\n",
       "      <th>Nonvascular Plant</th>\n",
       "      <td>328</td>\n",
       "      <td>5</td>\n",
       "      <td>0</td>\n",
       "      <td>0</td>\n",
       "      <td>0</td>\n",
       "    </tr>\n",
       "    <tr>\n",
       "      <th>Reptile</th>\n",
       "      <td>73</td>\n",
       "      <td>5</td>\n",
       "      <td>0</td>\n",
       "      <td>0</td>\n",
       "      <td>0</td>\n",
       "    </tr>\n",
       "    <tr>\n",
       "      <th>Vascular Plant</th>\n",
       "      <td>4216</td>\n",
       "      <td>43</td>\n",
       "      <td>0</td>\n",
       "      <td>2</td>\n",
       "      <td>1</td>\n",
       "    </tr>\n",
       "  </tbody>\n",
       "</table>\n",
       "</div>"
      ],
      "text/plain": [
       "conservation_status  No Information  Species of Concern  In Recovery  \\\n",
       "category                                                               \n",
       "Amphibian                        72                   4            0   \n",
       "Bird                            413                  68            3   \n",
       "Fish                            115                   4            0   \n",
       "Mammal                          146                  22            0   \n",
       "Nonvascular Plant               328                   5            0   \n",
       "Reptile                          73                   5            0   \n",
       "Vascular Plant                 4216                  43            0   \n",
       "\n",
       "conservation_status  Threatened  Endangered  \n",
       "category                                     \n",
       "Amphibian                     2           1  \n",
       "Bird                          0           4  \n",
       "Fish                          3           3  \n",
       "Mammal                        2           6  \n",
       "Nonvascular Plant             0           0  \n",
       "Reptile                       0           0  \n",
       "Vascular Plant                2           1  "
      ]
     },
     "metadata": {},
     "output_type": "display_data"
    },
    {
     "name": "stdout",
     "output_type": "stream",
     "text": [
      "None\n"
     ]
    }
   ],
   "source": [
    "# Compare category to conservation status\n",
    "\n",
    "cat_cons_crosstab = pd.crosstab(species['category'], species['conservation_status'], dropna = False)\n",
    "print(display(cat_cons_crosstab))"
   ]
  },
  {
   "cell_type": "code",
   "execution_count": 17,
   "metadata": {},
   "outputs": [
    {
     "data": {
      "text/plain": [
       "<Figure size 720x576 with 0 Axes>"
      ]
     },
     "metadata": {},
     "output_type": "display_data"
    },
    {
     "data": {
      "image/png": "[encoded data removed]",
      "text/plain": [
       "<Figure size 432x288 with 1 Axes>"
      ]
     },
     "metadata": {
      "needs_background": "light"
     },
     "output_type": "display_data"
    }
   ],
   "source": [
    "plt.figure(figsize = (10,8))\n",
    "ax = cat_cons_crosstab.plot(kind='bar', stacked=True, rot=0)\n",
    "ax.legend(title='Conservation Status', bbox_to_anchor=(1, 1.02), loc='upper left')\n",
    "ax.set_xticks(range(len(cat)))\n",
    "ax.set_xticklabels(cat, rotation = 'vertical')\n",
    "ax.set_xlabel('Category', fontsize = 12)\n",
    "ax.set_ylabel('Frequency', fontsize = 12)\n",
    "plt.show()"
   ]
  },
  {
   "cell_type": "code",
   "execution_count": 20,
   "metadata": {},
   "outputs": [
    {
     "data": {
      "text/html": [
       "<div>\n",
       "<style scoped>\n",
       "    .dataframe tbody tr th:only-of-type {\n",
       "        vertical-align: middle;\n",
       "    }\n",
       "\n",
       "    .dataframe tbody tr th {\n",
       "        vertical-align: top;\n",
       "    }\n",
       "\n",
       "    .dataframe thead th {\n",
       "        text-align: right;\n",
       "    }\n",
       "</style>\n",
       "<table border=\"1\" class=\"dataframe\">\n",
       "  <thead>\n",
       "    <tr style=\"text-align: right;\">\n",
       "      <th>conservation_status</th>\n",
       "      <th>Species of Concern</th>\n",
       "      <th>In Recovery</th>\n",
       "      <th>Threatened</th>\n",
       "      <th>Endangered</th>\n",
       "    </tr>\n",
       "    <tr>\n",
       "      <th>category</th>\n",
       "      <th></th>\n",
       "      <th></th>\n",
       "      <th></th>\n",
       "      <th></th>\n",
       "    </tr>\n",
       "  </thead>\n",
       "  <tbody>\n",
       "    <tr>\n",
       "      <th>Amphibian</th>\n",
       "      <td>4</td>\n",
       "      <td>0</td>\n",
       "      <td>2</td>\n",
       "      <td>1</td>\n",
       "    </tr>\n",
       "    <tr>\n",
       "      <th>Bird</th>\n",
       "      <td>68</td>\n",
       "      <td>3</td>\n",
       "      <td>0</td>\n",
       "      <td>4</td>\n",
       "    </tr>\n",
       "    <tr>\n",
       "      <th>Fish</th>\n",
       "      <td>4</td>\n",
       "      <td>0</td>\n",
       "      <td>3</td>\n",
       "      <td>3</td>\n",
       "    </tr>\n",
       "    <tr>\n",
       "      <th>Mammal</th>\n",
       "      <td>22</td>\n",
       "      <td>0</td>\n",
       "      <td>2</td>\n",
       "      <td>6</td>\n",
       "    </tr>\n",
       "    <tr>\n",
       "      <th>Nonvascular Plant</th>\n",
       "      <td>5</td>\n",
       "      <td>0</td>\n",
       "      <td>0</td>\n",
       "      <td>0</td>\n",
       "    </tr>\n",
       "    <tr>\n",
       "      <th>Reptile</th>\n",
       "      <td>5</td>\n",
       "      <td>0</td>\n",
       "      <td>0</td>\n",
       "      <td>0</td>\n",
       "    </tr>\n",
       "    <tr>\n",
       "      <th>Vascular Plant</th>\n",
       "      <td>43</td>\n",
       "      <td>0</td>\n",
       "      <td>2</td>\n",
       "      <td>1</td>\n",
       "    </tr>\n",
       "  </tbody>\n",
       "</table>\n",
       "</div>"
      ],
      "text/plain": [
       "conservation_status  Species of Concern  In Recovery  Threatened  Endangered\n",
       "category                                                                    \n",
       "Amphibian                             4            0           2           1\n",
       "Bird                                 68            3           0           4\n",
       "Fish                                  4            0           3           3\n",
       "Mammal                               22            0           2           6\n",
       "Nonvascular Plant                     5            0           0           0\n",
       "Reptile                               5            0           0           0\n",
       "Vascular Plant                       43            0           2           1"
      ]
     },
     "metadata": {},
     "output_type": "display_data"
    },
    {
     "name": "stdout",
     "output_type": "stream",
     "text": [
      "None\n"
     ]
    }
   ],
   "source": [
    "cat_cons_crosstab2 = pd.crosstab(species.category[species.conservation_status!= 'No Information'],\n",
    "                                 species.conservation_status[species.conservation_status!= 'No Information'],\n",
    "                                 dropna = True)\n",
    "print(display(cat_cons_crosstab2))\n"
   ]
  },
  {
   "cell_type": "code",
   "execution_count": 19,
   "metadata": {},
   "outputs": [
    {
     "data": {
      "text/plain": [
       "<Figure size 720x576 with 0 Axes>"
      ]
     },
     "metadata": {},
     "output_type": "display_data"
    },
    {
     "data": {
      "image/png": "[encoded data removed]",
      "text/plain": [
       "<Figure size 432x288 with 1 Axes>"
      ]
     },
     "metadata": {
      "needs_background": "light"
     },
     "output_type": "display_data"
    }
   ],
   "source": [
    "plt.figure(figsize = (10,8))\n",
    "ax = cat_cons_crosstab2.plot(kind='bar', stacked=True, rot=0, color = ['tab:orange', 'tab:green', 'tab:red', 'tab:purple'])\n",
    "ax.legend(title='Conservation Status', bbox_to_anchor=(1, 1.02), loc='upper left')\n",
    "ax.set_xticks(range(len(cat)))\n",
    "ax.set_xticklabels(cat, rotation = 'vertical')\n",
    "ax.set_xlabel('Category', fontsize = 12)\n",
    "ax.set_ylabel('Frequency', fontsize = 12)\n",
    "plt.show()"
   ]
  }
 ],
 "metadata": {
  "celltoolbar": "Raw Cell Format",
  "kernelspec": {
   "display_name": "Python 3 (ipykernel)",
   "language": "python",
   "name": "python3"
  },
  "language_info": {
   "codemirror_mode": {
    "name": "ipython",
    "version": 3
   },
   "file_extension": ".py",
   "mimetype": "text/x-python",
   "name": "python",
   "nbconvert_exporter": "python",
   "pygments_lexer": "ipython3",
   "version": "3.9.7"
  }
 },
 "nbformat": 4,
 "nbformat_minor": 4
}
